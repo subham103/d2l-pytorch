{
 "cells": [
  {
   "cell_type": "markdown",
   "metadata": {},
   "source": [
    "# Pooling\n",
    "\n",
    "As we process images (or other data sources) we will eventually want to reduce the resolution of the\n",
    "images. After all, we typically want to output an estimate that does not depend on the dimensionality of\n",
    "the original image. Secondly, when detecting lower-level features, such as edge detection (we covered this\n",
    "in the section on *convolutional layers*), we often want to have some degree of invariance to translation.\n",
    "For instance, if we take the image X with a sharp delineation between black and white and if we shift it\n",
    "by one pixel to the right, i.e. `Z[i,j]` = `X[i,j+1]`, then the output for for the new image Z will be\n",
    "vastly different. The edge will have shifted by one pixel and with it all the activations. In reality objects\n",
    "hardly ever occur exactly at the same place. In fact, even with a tripod and a stationary object, vibration\n",
    "of the camera due to the movement of the shutter might shift things by a pixel or so (this is why high\n",
    "end cameras have a special option to fix this). Given that, we need a mathematical device to address the\n",
    "problem.\n",
    "\n",
    "This section introduces pooling layers, which were proposed to alleviate the excessive sensitivity of the\n",
    "convolutional layer to location and to reduce the resolution of images through the processing pipeline."
   ]
  },
  {
   "cell_type": "markdown",
   "metadata": {},
   "source": [
    "# Maximum Pooling and Average Pooling\n",
    "\n",
    "Like convolutions, pooling computes the output for each element in a fixed-shape window (also known\n",
    "as a pooling window) of input data. Different from the cross-correlation computation of the inputs and\n",
    "kernels in the convolutional layer, the pooling layer directly calculates the maximum or average value of\n",
    "the elements in the pooling window. These operations are called maximum pooling or average pooling\n",
    "respectively. In maximum pooling, the pooling window starts from the top left of the input array, and\n",
    "slides in the input array from left to right and top to bottom. When the pooling window slides to a certain\n",
    "position, the maximum value of the input subarray in the window is the element at the corresponding\n",
    "location in the output array."
   ]
  },
  {
   "cell_type": "code",
   "execution_count": 1,
   "metadata": {},
   "outputs": [
    {
     "data": {
      "text/html": [
       "<img src=../img/pooling.svg>"
      ],
      "text/plain": [
       "<IPython.core.display.HTML object>"
      ]
     },
     "metadata": {},
     "output_type": "display_data"
    }
   ],
   "source": [
    "%%html\n",
    "<img src=../img/pooling.svg>"
   ]
  },
  {
   "cell_type": "markdown",
   "metadata": {},
   "source": [
    "Fig. 6.6: Maximum pooling with a pooling window shape of 2 × 2. The shaded portions represent the\n",
    "first output element and the input element used for its computation: max(0, 1, 3, 4) = 4\n",
    "\n",
    "The output array in the figure above has a height of 2 and a width of 2. The four elements are derived\n",
    "from the maximum value of max:\n",
    "                                        max(0, 1, 3, 4) = 4,\n",
    "                                        max(1, 2, 4, 5) = 5,\n",
    "                                        max(3, 4, 6, 7) = 7,\n",
    "                                        max(4, 5, 7, 8) = 8."
   ]
  },
  {
   "cell_type": "markdown",
   "metadata": {},
   "source": [
    "Average pooling works like maximum pooling, only with the maximum operator replaced by the average\n",
    "operator. The pooling layer with a pooling window shape of p × q is called the p × q pooling layer. The\n",
    "pooling operation is called p × q pooling.\n",
    "\n",
    "Let us return to the object edge detection example mentioned at the beginning of this section. Now we will\n",
    "use the output of the convolutional layer as the input for 2 × 2 maximum pooling. Set the convolutional\n",
    "layer input as X and the pooling layer output as Y. Whether or not the values of `X[i, j]` and `X[i,\n",
    "j+1]` are different, or `X[i, j+1]` and `X[i, j+2]` are different, the pooling layer outputs all include\n",
    "`Y[i, j]=1`. That is to say, using the 2 × 2 maximum pooling layer, we can still detect if the pattern\n",
    "recognized by the convolutional layer moves no more than one element in height and width.\n",
    "\n",
    "As shown below, we implement the forward computation of the pooling layer in the `pool2d` function.\n",
    "This function is very similar to the `corr2d` function in the section on *convolutions*. The only difference\n",
    "lies in the computation of the output Y."
   ]
  },
  {
   "cell_type": "code",
   "execution_count": 2,
   "metadata": {},
   "outputs": [],
   "source": [
    "import torch\n",
    "import torch.nn as nn\n",
    "\n",
    "def pool2d(X, pool_size, mode='max'):\n",
    "    p_h, p_w = pool_size\n",
    "    Y = torch.zeros((X.shape[0] - p_h + 1, X.shape[1] - p_w + 1))\n",
    "    for i in range(Y.shape[0]):\n",
    "        for j in range(Y.shape[1]):\n",
    "            if mode == 'max':\n",
    "                Y[i, j] = X[i: i + p_h, j: j + p_w].max()\n",
    "            elif mode == 'avg':\n",
    "                Y[i, j] = X[i: i + p_h, j: j + p_w].mean()\n",
    "    return Y"
   ]
  },
  {
   "cell_type": "markdown",
   "metadata": {},
   "source": [
    "We can construct the input array X in the above diagram to validate the output of the two-dimensional maximum pooling layer."
   ]
  },
  {
   "cell_type": "code",
   "execution_count": 3,
   "metadata": {},
   "outputs": [
    {
     "data": {
      "text/plain": [
       "tensor([[4., 5.],\n",
       "        [7., 8.]])"
      ]
     },
     "execution_count": 3,
     "metadata": {},
     "output_type": "execute_result"
    }
   ],
   "source": [
    "X = torch.tensor([[0, 1, 2], [3, 4, 5], [6, 7, 8]], dtype=torch.float32)\n",
    "pool2d(X, (2, 2))"
   ]
  },
  {
   "cell_type": "markdown",
   "metadata": {},
   "source": [
    "At the same time, we experiment with the average pooling layer."
   ]
  },
  {
   "cell_type": "code",
   "execution_count": 4,
   "metadata": {},
   "outputs": [
    {
     "data": {
      "text/plain": [
       "tensor([[2., 3.],\n",
       "        [5., 6.]])"
      ]
     },
     "execution_count": 4,
     "metadata": {},
     "output_type": "execute_result"
    }
   ],
   "source": [
    "pool2d(X, (2, 2), 'avg')"
   ]
  },
  {
   "cell_type": "markdown",
   "metadata": {},
   "source": [
    "# Padding and Stride\n",
    "\n",
    "Like the convolutional layer, the pooling layer can also change the output shape by padding the two sides\n",
    "of the input height and width and adjusting the window stride. The pooling layer works in the same way\n",
    "as the convolutional layer in terms of padding and strides. We will demonstrate the use of padding and\n",
    "stride in the pooling layer through the two-dimensional maximum pooling layer **MaxPool2d** in the torch.nn\n",
    "module. We first construct an input data of shape ($1$, $1$, $4$, $4$), where the first two dimensions are\n",
    "batch and channel."
   ]
  },
  {
   "cell_type": "code",
   "execution_count": 5,
   "metadata": {},
   "outputs": [
    {
     "name": "stdout",
     "output_type": "stream",
     "text": [
      "tensor([[[[ 0.,  1.,  2.,  3.],\n",
      "          [ 4.,  5.,  6.,  7.],\n",
      "          [ 8.,  9., 10., 11.],\n",
      "          [12., 13., 14., 15.]]]])\n"
     ]
    }
   ],
   "source": [
    "X = torch.arange(16, dtype=torch.float32).reshape((1, 1, 4, 4))\n",
    "print(X)"
   ]
  },
  {
   "cell_type": "markdown",
   "metadata": {},
   "source": [
    "By default, the stride in the `MaxPool2d` class has the same shape as the pooling window. Below, we use\n",
    "a pooling window of shape ($3$, $3$), so we get a stride shape of ($3$, $3$) by default."
   ]
  },
  {
   "cell_type": "code",
   "execution_count": 6,
   "metadata": {},
   "outputs": [
    {
     "data": {
      "text/plain": [
       "tensor([[[[10.]]]])"
      ]
     },
     "execution_count": 6,
     "metadata": {},
     "output_type": "execute_result"
    }
   ],
   "source": [
    "pool2d = nn.MaxPool2d(3)\n",
    "# Because there are no model parameters in the pooling layer, we do not need\n",
    "# to call the parameter initialization function\n",
    "pool2d(X)"
   ]
  },
  {
   "cell_type": "markdown",
   "metadata": {},
   "source": [
    "The stride and padding can be manually specified."
   ]
  },
  {
   "cell_type": "code",
   "execution_count": 7,
   "metadata": {},
   "outputs": [
    {
     "data": {
      "text/plain": [
       "tensor([[[[ 5.,  7.],\n",
       "          [13., 15.]]]])"
      ]
     },
     "execution_count": 7,
     "metadata": {},
     "output_type": "execute_result"
    }
   ],
   "source": [
    "pool2d = nn.MaxPool2d(3, padding=1, stride=2)\n",
    "pool2d(X)"
   ]
  },
  {
   "cell_type": "markdown",
   "metadata": {},
   "source": [
    "Of course, we can specify an arbitrary rectangular pooling window and specify the padding and stride for\n",
    "height and width, respectively."
   ]
  },
  {
   "cell_type": "code",
   "execution_count": 8,
   "metadata": {},
   "outputs": [
    {
     "data": {
      "text/plain": [
       "tensor([[[[ 1.,  3.],\n",
       "          [ 9., 11.],\n",
       "          [13., 15.]]]])"
      ]
     },
     "execution_count": 8,
     "metadata": {},
     "output_type": "execute_result"
    }
   ],
   "source": [
    "# pad should be smaller than half of kernel size\n",
    "pool2d = nn.MaxPool2d((2, 3), padding=(1, 1), stride=(2, 3))\n",
    "pool2d(X)"
   ]
  },
  {
   "cell_type": "markdown",
   "metadata": {},
   "source": [
    "# Multiple Channels\n",
    "\n",
    "When processing multi-channel input data, the pooling layer pools each input channel separately, rather\n",
    "than adding the inputs of each channel by channel as in a convolutional layer. This means that the\n",
    "number of output channels for the pooling layer is the same as the number of input channels. Below, we\n",
    "will concatenate arrays X and X+1 on the channel dimension to construct an input with 2 channels."
   ]
  },
  {
   "cell_type": "code",
   "execution_count": 9,
   "metadata": {},
   "outputs": [
    {
     "name": "stdout",
     "output_type": "stream",
     "text": [
      "tensor([[[[ 0.,  1.,  2.,  3.],\n",
      "          [ 4.,  5.,  6.,  7.],\n",
      "          [ 8.,  9., 10., 11.],\n",
      "          [12., 13., 14., 15.]],\n",
      "\n",
      "         [[ 1.,  2.,  3.,  4.],\n",
      "          [ 5.,  6.,  7.,  8.],\n",
      "          [ 9., 10., 11., 12.],\n",
      "          [13., 14., 15., 16.]]]])\n"
     ]
    }
   ],
   "source": [
    "X = torch.cat((X, X + 1), dim=1)\n",
    "print(X)"
   ]
  },
  {
   "cell_type": "markdown",
   "metadata": {},
   "source": [
    "As we can see, the number of output channels is still 2 after pooling."
   ]
  },
  {
   "cell_type": "code",
   "execution_count": 10,
   "metadata": {},
   "outputs": [
    {
     "data": {
      "text/plain": [
       "tensor([[[[ 5.,  7.],\n",
       "          [13., 15.]],\n",
       "\n",
       "         [[ 6.,  8.],\n",
       "          [14., 16.]]]])"
      ]
     },
     "execution_count": 10,
     "metadata": {},
     "output_type": "execute_result"
    }
   ],
   "source": [
    "pool2d = nn.MaxPool2d(3, padding=1, stride=2)\n",
    "pool2d(X)"
   ]
  },
  {
   "cell_type": "markdown",
   "metadata": {},
   "source": [
    "# Summary\n",
    "\n",
    "* Taking the input elements in the pooling window, the maximum pooling operation assigns the\n",
    "maximum value as the output and the average pooling operation assigns the average value as the\n",
    "output.\n",
    "* One of the major functions of a pooling layer is to alleviate the excessive sensitivity of the convolutional layer to location.\n",
    "* We can specify the padding and stride for the pooling layer.\n",
    "* Maximum pooling, combined with a stride larger than 1 can be used to reduce the resolution.\n",
    "* The pooling layer’s number of output channels is the same as the number of input channels."
   ]
  },
  {
   "cell_type": "markdown",
   "metadata": {},
   "source": [
    "# Exercises\n",
    "\n",
    "1. Implement average pooling as a convolution.\n",
    "2. What is the computational cost of the pooling layer? Assume that the input to the pooling layer is\n",
    "of size c × h × w, the pooling window has a shape of $p_{h}$ × $p_{w}$ with a padding of ($p_{h}$ , $p_{w}$ ) and a\n",
    "stride of ($s_{h}$ , $s_{w}$ ).\n",
    "3. Why do you expect maximum pooling and average pooling to work differently?\n",
    "4. Do we need a separate minimum pooling layer? Can you replace it with another operation?\n",
    "5. Is there another operation between average and maximum pooling that you could consider (hint -\n",
    "recall the softmax)? Why might it not be so popular?"
   ]
  }
 ],
 "metadata": {
  "kernelspec": {
   "display_name": "Python 3",
   "language": "python",
   "name": "python3"
  },
  "language_info": {
   "codemirror_mode": {
    "name": "ipython",
    "version": 3
   },
   "file_extension": ".py",
   "mimetype": "text/x-python",
   "name": "python",
   "nbconvert_exporter": "python",
   "pygments_lexer": "ipython3",
   "version": "3.6.5"
  }
 },
 "nbformat": 4,
 "nbformat_minor": 2
}
